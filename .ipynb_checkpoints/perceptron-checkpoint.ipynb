{
 "cells": [
  {
   "cell_type": "code",
   "execution_count": 1,
   "id": "d4817188-e0db-4ea4-a06d-8bf22794fbeb",
   "metadata": {},
   "outputs": [],
   "source": [
    "import numpy as np\n",
    "import matplotlib.pyplot as plt\n",
    "from sklearn.datasets import make_blobs"
   ]
  },
  {
   "cell_type": "code",
   "execution_count": 2,
   "id": "af911660-a565-4f39-952f-f1e8a4b402a1",
   "metadata": {},
   "outputs": [
    {
     "data": {
      "image/png": "[encoded data removed]",
      "text/plain": [
       "<Figure size 432x288 with 1 Axes>"
      ]
     },
     "metadata": {
      "needs_background": "light"
     },
     "output_type": "display_data"
    }
   ],
   "source": [
    "X, y = make_blobs(n_samples=100, n_features=2, centers=2, random_state=0)\n",
    "y = y.reshape(y.shape[0], 1)\n",
    "plt.scatter(X[:, 0], X[:, 1], c=y, cmap=\"summer\")\n",
    "plt.show()"
   ]
  },
  {
   "cell_type": "code",
   "execution_count": 3,
   "id": "d7962635-857b-437b-9029-6e86768e03d5",
   "metadata": {},
   "outputs": [],
   "source": [
    "# INITIALISATION\n",
    "def initialisation(X):\n",
    "    W = np.random.randn(X.shape[1], 1)\n",
    "    b = np.random.randn(1)\n",
    "    return (W, b)"
   ]
  },
  {
   "cell_type": "code",
   "execution_count": 4,
   "id": "35bff500-e187-4ad4-9b9d-82d29203b64d",
   "metadata": {},
   "outputs": [],
   "source": [
    "W, b = initialisation(X)"
   ]
  },
  {
   "cell_type": "code",
   "execution_count": 5,
   "id": "a075105f-49a9-47f8-9743-7047a0f1bf8e",
   "metadata": {},
   "outputs": [],
   "source": [
    "# MODEL\n",
    "def model(X, W, b):\n",
    "    # Calculer le vecteur Z\n",
    "    Z = X.dot(W) + b # Z = X.W + b\n",
    "    A = 1 / (1 + np.exp(-Z)) # A = 1/(1+e^-z) (Fonction Sigmoide)\n",
    "    return A"
   ]
  },
  {
   "cell_type": "code",
   "execution_count": 6,
   "id": "171cbb59-75a1-42b4-bab0-558767d460ab",
   "metadata": {},
   "outputs": [
    {
     "data": {
      "text/plain": [
       "(100, 1)"
      ]
     },
     "execution_count": 6,
     "metadata": {},
     "output_type": "execute_result"
    }
   ],
   "source": [
    "A = model(X, W, b)\n",
    "A.shape"
   ]
  },
  {
   "cell_type": "code",
   "execution_count": 7,
   "id": "0c54a962-b620-4af4-a6a5-edb28916ef9d",
   "metadata": {},
   "outputs": [],
   "source": [
    "# FUNCTION COUT\n",
    "def log_loss(A, y):\n",
    "    return 1/len(y) * np.sum(-y * np.log(A) - (1-y) * np.log(1-A))"
   ]
  },
  {
   "cell_type": "code",
   "execution_count": 8,
   "id": "6cafe309-df48-4257-ab73-2d48834fbaed",
   "metadata": {},
   "outputs": [
    {
     "data": {
      "text/plain": [
       "0.7223433006638724"
      ]
     },
     "execution_count": 8,
     "metadata": {},
     "output_type": "execute_result"
    }
   ],
   "source": [
    "log_loss(A, y)"
   ]
  },
  {
   "cell_type": "code",
   "execution_count": 9,
   "id": "3c300c66-41c5-4859-937d-85cb1ad84747",
   "metadata": {},
   "outputs": [],
   "source": [
    "# DESCENTE DE GRADIENT\n",
    "def gradients(A, X, y):\n",
    "    # derivee de L % a W\n",
    "    dW = 1 / len(y) * np.dot(X.T, (A-y))\n",
    "    db = 1 / len(y) * np.sum(A-y)\n",
    "    return (dW, db)"
   ]
  },
  {
   "cell_type": "code",
   "execution_count": 10,
   "id": "414e7d69-deb6-4aa1-ab57-253706fb064c",
   "metadata": {},
   "outputs": [
    {
     "data": {
      "text/plain": [
       "array([[-0.57622788],\n",
       "       [ 0.26891699]])"
      ]
     },
     "execution_count": 10,
     "metadata": {},
     "output_type": "execute_result"
    }
   ],
   "source": [
    "dW, db = gradients(A, X, y)\n",
    "dW"
   ]
  },
  {
   "cell_type": "code",
   "execution_count": 11,
   "id": "f16b19c5-8130-4c61-ac53-dbbf4f8a2046",
   "metadata": {},
   "outputs": [],
   "source": [
    "# MIS A JOUR\n",
    "## learning_rate = pas de mis a jour\n",
    "def update(dW, db, W, b, learning_rate):\n",
    "    W = W - learning_rate * dW\n",
    "    b = b - learning_rate * db\n",
    "    return (W, b)"
   ]
  },
  {
   "cell_type": "code",
   "execution_count": 12,
   "id": "533f7e84-b327-4174-8722-1584ea349ebd",
   "metadata": {},
   "outputs": [
    {
     "data": {
      "text/plain": [
       "array([[ 0.32500133],\n",
       "       [-0.41450726]])"
      ]
     },
     "execution_count": 12,
     "metadata": {},
     "output_type": "execute_result"
    }
   ],
   "source": [
    "W_, b_ = update(dW, db, W, b, 1)\n",
    "W_"
   ]
  },
  {
   "cell_type": "code",
   "execution_count": 30,
   "id": "20c98b89-cb86-4bc1-a839-4820a28a0d00",
   "metadata": {},
   "outputs": [],
   "source": [
    "# PREDICTION\n",
    "def predict(X, W, b):\n",
    "    # Activation\n",
    "    A = model(X, W, b)\n",
    "    print(A) # LA PROBABILITE D'APPERTENIR A CLASSE 1\n",
    "    return A >= 0.5"
   ]
  },
  {
   "cell_type": "code",
   "execution_count": 14,
   "id": "b2e77263-8619-443d-aa69-16268cf59241",
   "metadata": {},
   "outputs": [],
   "source": [
    "from sklearn.metrics import accuracy_score"
   ]
  },
  {
   "cell_type": "code",
   "execution_count": 15,
   "id": "62b3785a-8e08-476c-b996-dd564d9a786a",
   "metadata": {},
   "outputs": [],
   "source": [
    "# RASSEMBLEMENT\n",
    "def artificial_neuron(X, y, learning_rate=0.1, n_iter=100):\n",
    "    # initialisation W et b\n",
    "    W, b = initialisation(X)\n",
    "    Loss = [] # pour verifier l'apprentissage\n",
    "    # boucle d'apprentissage\n",
    "    for i in range(n_iter):\n",
    "        # COUT\n",
    "        A = model(X, W, b)\n",
    "        Loss.append(log_loss(A, y))\n",
    "        # GRADIENTS\n",
    "        dW, db = gradients(A, X, y)\n",
    "        # MIS A JOUR\n",
    "        W, b = update(dW, db, W, b, learning_rate)\n",
    "        \n",
    "    # prediction\n",
    "    y_pred = predict(X, W, b)\n",
    "    print(accuracy_score(y, y_pred))\n",
    "        \n",
    "    plt.plot(Loss) # L'evolution des erreurs effectuees par le model\n",
    "    plt.show()\n",
    "    \n",
    "    return (W, b) # Parametre que le model a apris"
   ]
  },
  {
   "cell_type": "code",
   "execution_count": 16,
   "id": "cdd0d3a6-cbeb-4f90-9b4f-b3928b99983e",
   "metadata": {},
   "outputs": [
    {
     "name": "stdout",
     "output_type": "stream",
     "text": [
      "0.92\n"
     ]
    },
    {
     "data": {
      "image/png": "[encoded data removed]",
      "text/plain": [
       "<Figure size 432x288 with 1 Axes>"
      ]
     },
     "metadata": {
      "needs_background": "light"
     },
     "output_type": "display_data"
    }
   ],
   "source": [
    "W, b = artificial_neuron(X, y)"
   ]
  },
  {
   "cell_type": "code",
   "execution_count": 17,
   "id": "1f9507c0-0570-428d-a978-a0de25099bc4",
   "metadata": {},
   "outputs": [
    {
     "data": {
      "text/plain": [
       "(array([[ 0.96117184],\n",
       "        [-1.10152378]]),\n",
       " array([1.14206077]))"
      ]
     },
     "execution_count": 17,
     "metadata": {},
     "output_type": "execute_result"
    }
   ],
   "source": [
    "W,b"
   ]
  },
  {
   "cell_type": "code",
   "execution_count": 33,
   "id": "d8398656-f683-4355-94b3-9d0bb99442c0",
   "metadata": {},
   "outputs": [
    {
     "data": {
      "image/png": "[encoded data removed]",
      "text/plain": [
       "<Figure size 432x288 with 1 Axes>"
      ]
     },
     "metadata": {
      "needs_background": "light"
     },
     "output_type": "display_data"
    }
   ],
   "source": [
    "# Creer nouveau\n",
    "new_plant_t = np.array([2, 1])\n",
    "new_plant_nt = np.array([1, 5])\n",
    "\n",
    "# Frontiere de decision\n",
    "x0 = np.linspace(-1, 4, 100)\n",
    "x1 = (-W[0] * x0 - b) / W[1]\n",
    "\n",
    "# DATASET\n",
    "plt.scatter(X[:, 0], X[:, 1], c=y, cmap=\"summer\")\n",
    "# PLANT 1\n",
    "plt.scatter(new_plant_t[0], new_plant_t[1], c='r')\n",
    "# PLANT 2\n",
    "plt.scatter(new_plant_nt[0], new_plant_nt[1], c='g')\n",
    "# FRONTIERE DE DECISION\n",
    "plt.plot(x0, x1, c='orange', lw=3)\n",
    "plt.show()"
   ]
  },
  {
   "cell_type": "code",
   "execution_count": 31,
   "id": "ff236e99-940e-4252-904e-9b0b8982d6ee",
   "metadata": {},
   "outputs": [
    {
     "name": "stdout",
     "output_type": "stream",
     "text": [
      "[0.87684437]\n"
     ]
    },
    {
     "data": {
      "text/plain": [
       "array([ True])"
      ]
     },
     "execution_count": 31,
     "metadata": {},
     "output_type": "execute_result"
    }
   ],
   "source": [
    "# 92% => il y a 8 plants FP\n",
    "\n",
    "predict(new_plant_t, W, b) # TOXIQUE (CLASSE 1)"
   ]
  },
  {
   "cell_type": "code",
   "execution_count": 32,
   "id": "a7988574-2695-466e-b7ff-af8df58233d6",
   "metadata": {},
   "outputs": [
    {
     "name": "stdout",
     "output_type": "stream",
     "text": [
      "[0.03215866]\n"
     ]
    },
    {
     "data": {
      "text/plain": [
       "array([False])"
      ]
     },
     "execution_count": 32,
     "metadata": {},
     "output_type": "execute_result"
    }
   ],
   "source": [
    "predict(new_plant_nt, W, b) # NON TOXIQUE (CLASSE 0)"
   ]
  },
  {
   "cell_type": "code",
   "execution_count": null,
   "id": "f56446c5-b363-433e-a0d2-bd03d6037098",
   "metadata": {},
   "outputs": [],
   "source": []
  }
 ],
 "metadata": {
  "kernelspec": {
   "display_name": "Python 3 (ipykernel)",
   "language": "python",
   "name": "python3"
  },
  "language_info": {
   "codemirror_mode": {
    "name": "ipython",
    "version": 3
   },
   "file_extension": ".py",
   "mimetype": "text/x-python",
   "name": "python",
   "nbconvert_exporter": "python",
   "pygments_lexer": "ipython3",
   "version": "3.8.8"
  }
 },
 "nbformat": 4,
 "nbformat_minor": 5
}
