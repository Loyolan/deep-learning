{
 "cells": [
  {
   "cell_type": "code",
   "execution_count": 1,
   "id": "6571c8cc-0171-49fe-8e27-89b7f481882a",
   "metadata": {},
   "outputs": [],
   "source": [
    "from utilities import *\n",
    "import matplotlib.pyplot as plt\n",
    "import numpy as np\n",
    "from sklearn.metrics import accuracy_score\n",
    "\n",
    "X_train, y_train, X_test, y_test = load_data()"
   ]
  },
  {
   "cell_type": "code",
   "execution_count": 14,
   "id": "9909cba3-51e9-44cf-b5ce-1bd534c35782",
   "metadata": {},
   "outputs": [],
   "source": [
    "from tqdm import tqdm\n",
    "\n",
    "def initialisation(n0, n1, n2):\n",
    "    W1 = np.random.randn(n1, n0)\n",
    "    b1 = np.random.randn(n1, 1)\n",
    "    W2 = np.random.randn(n2, n1)\n",
    "    b2 = np.random.randn(n2, 1)\n",
    "    parametres = {\n",
    "        \"W1\": W1,\n",
    "        \"b1\": b1,\n",
    "        \"W2\": W2,\n",
    "        \"b2\": b2\n",
    "    }\n",
    "    return parametres\n",
    "\n",
    "# MODEL\n",
    "def forward_propagation(X, parametres):\n",
    "    W1 = parametres['W1']\n",
    "    b1 = parametres['b1']\n",
    "    W2 = parametres['W2']\n",
    "    b2 = parametres['b2']\n",
    "    # Calculer les vecteurs Z1 et Z2\n",
    "    Z1 = W1.dot(X) + b1 # Z = X.W + b\n",
    "    A1 = 1 / (1 + np.exp(-Z1)) # A = 1/(1+e^-z) (Fonction Sigmoide)\n",
    "    Z2 = W2.dot(A1) + b2\n",
    "    A2 = 1 / (1 + np.exp(-Z2)) # Activation a la fin du reseaux\n",
    "    activations = {\n",
    "        \"A1\": A1,\n",
    "        \"A2\": A2\n",
    "    }\n",
    "    return activations\n",
    "\n",
    "# FUNCTION COUT\n",
    "def log_loss(A, y):\n",
    "    epsilon = 1e-15\n",
    "    return 1/len(y) * np.sum(-y * np.log(A + epsilon) - (1-y) * np.log(1-A + epsilon))\n",
    "\n",
    "# DESCENTE DE GRADIENT\n",
    "def back_propagation(X, y, activations, parametres):\n",
    "    A1 = activations['A1']\n",
    "    A2 = activations['A2']\n",
    "    W2 = parametres['W2']\n",
    "    # derivee de L % a W\n",
    "    m = y.shape[1]\n",
    "    dZ2 = A2 - y\n",
    "    dW2 = 1 / m * dZ2.dot(A2.T)\n",
    "    db2 = 1 / m * np.sum(dZ2, axis=1, keepdims=True)\n",
    "    dZ1 = np.dot(W2.T, dZ2) * A1 * (1-A1)\n",
    "    dW1 = 1 / m * dZ1.dot(X.T)\n",
    "    db1 = 1 / m * np.sum(dZ1, axis=1, keepdims=True)\n",
    "    \n",
    "    gradients = {\n",
    "        \"dW2\": dW2,\n",
    "        \"db2\": db2,\n",
    "        \"dW1\": dW1,\n",
    "        \"db1\": db1\n",
    "    }\n",
    "    return gradients\n",
    "\n",
    "# MIS A JOUR\n",
    "## learning_rate = pas de mis a jour\n",
    "def update(gradients, parametres, learning_rate):\n",
    "    dW1 = gradients['dW1']\n",
    "    db1 = gradients['db1']\n",
    "    dW2 = gradients['dW2']\n",
    "    db2 = gradients['db2']\n",
    "    W1 = parametres['W1']\n",
    "    b1 = parametres['b1']\n",
    "    W2 = parametres['W2']\n",
    "    b2 = parametres['b2']\n",
    "    W1 = W1 - learning_rate * dW1\n",
    "    b1 = b1 - learning_rate * db1\n",
    "    W2 = W2 - learning_rate * dW2\n",
    "    b2 = b2 - learning_rate * db2\n",
    "    \n",
    "    parametres = {\n",
    "        \"W1\": W1,\n",
    "        \"b1\": b1,\n",
    "        \"W2\": W2,\n",
    "        \"b2\": b2\n",
    "    }\n",
    "    return parametres\n",
    "\n",
    "# PREDICTION\n",
    "def predict(X, parametres):\n",
    "    # Activation\n",
    "    activations = forward_propagation(X, parametres)\n",
    "    A2 = activations['A2']\n",
    "    #print(A) # LA PROBABILITE D'APPERTENIR A CLASSE 1\n",
    "    return A2 >= 0.5\n",
    "\n",
    "# RASSEMBLEMENT\n",
    "def neural_network(X_train, y_train, n1, learning_rate=0.1, n_iter=100):\n",
    "    # initialisation\n",
    "    n0 = X_train.shape[0]\n",
    "    # nombre de neurones qu'on veut avoir\n",
    "    n2 = y_train.shape[0]\n",
    "    parametres = initialisation(n0, n1, n2)\n",
    "    train_loss = [] # pour verifier l'apprentissage\n",
    "    train_acc = []\n",
    "    # boucle d'apprentissage\n",
    "    for i in tqdm(range(n_iter)):\n",
    "        # COUT\n",
    "        activations = forward_propagation(X_train, parametres)\n",
    "        gradients = back_propagation(X_train, y_train, activations, parametres)\n",
    "        parametres = update(gradients, parametres, learning_rate)\n",
    "        #if i%10 == 0:\n",
    "        # TRAIN\n",
    "        train_loss.append(log_loss(y_train, activations['A2']))\n",
    "        y_pred = predict(X_train, parametres)\n",
    "        train_acc.append(accuracy_score(y_train.flatten(), y_pred.flatten()))\n",
    "        \n",
    "    plt.figure(figsize=(12, 4))\n",
    "    plt.subplot(1, 2, 1)\n",
    "    plt.plot(train_loss, label=\"TRAIN LOSS\") # L'evolution des erreurs effectuees par le model\n",
    "    plt.legend()\n",
    "    plt.subplot(1, 2, 2)\n",
    "    plt.plot(train_acc, label=\"TRAIN ACC\") # L'evolution de l'entrainement\n",
    "    plt.legend()\n",
    "    plt.show()\n",
    "    \n",
    "    return parametres # Parametre que le model a apris"
   ]
  },
  {
   "cell_type": "code",
   "execution_count": 9,
   "id": "cf7e7f61-22b5-4994-af6f-43be49468b94",
   "metadata": {},
   "outputs": [
    {
     "data": {
      "text/plain": [
       "((4096, 300), (1, 300), (4096, 80), (1, 80))"
      ]
     },
     "execution_count": 9,
     "metadata": {},
     "output_type": "execute_result"
    }
   ],
   "source": [
    "X_train = X_train.T\n",
    "X_test = X_test.T\n",
    "y_train = y_train.T\n",
    "y_test = y_test.T\n",
    "\n",
    "X_train_reshape = X_train.reshape(-1, X_train.shape[-1]) / X_train.max()\n",
    "X_test_reshape = X_test.reshape(-1, X_test.shape[-1]) / X_train.max()\n",
    "\n",
    "m_train = 300\n",
    "m_test = 80\n",
    "\n",
    "X_test_reshape = X_test_reshape[:, :m_test]\n",
    "X_train_reshape = X_train_reshape[:, :m_train]\n",
    "# y_train = y_train[:, :m_train]\n",
    "# y_test = y_test[:, :m_test]\n",
    "\n",
    "X_train_reshape.shape, y_train.shape, X_test_reshape.shape, y_test.shape"
   ]
  },
  {
   "cell_type": "code",
   "execution_count": 16,
   "id": "8aadfafe-c1ee-4945-931d-2f09e7afb74d",
   "metadata": {},
   "outputs": [
    {
     "name": "stderr",
     "output_type": "stream",
     "text": [
      "100%|██████████| 1000/1000 [00:38<00:00, 25.95it/s]\n"
     ]
    },
    {
     "data": {
      "image/png": "[encoded data removed]",
      "text/plain": [
       "<Figure size 864x288 with 2 Axes>"
      ]
     },
     "metadata": {
      "needs_background": "light"
     },
     "output_type": "display_data"
    }
   ],
   "source": [
    "parametres = neural_network(X_train_reshape, y_train, n1=2, n_iter=1000, learning_rate=0.1)"
   ]
  }
 ],
 "metadata": {
  "kernelspec": {
   "display_name": "Python 3 (ipykernel)",
   "language": "python",
   "name": "python3"
  },
  "language_info": {
   "codemirror_mode": {
    "name": "ipython",
    "version": 3
   },
   "file_extension": ".py",
   "mimetype": "text/x-python",
   "name": "python",
   "nbconvert_exporter": "python",
   "pygments_lexer": "ipython3",
   "version": "3.8.8"
  }
 },
 "nbformat": 4,
 "nbformat_minor": 5
}
